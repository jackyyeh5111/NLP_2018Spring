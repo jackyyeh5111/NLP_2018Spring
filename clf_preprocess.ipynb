{
 "cells": [
  {
   "cell_type": "code",
   "execution_count": 12,
   "metadata": {},
   "outputs": [],
   "source": [
    "import numpy as np\n",
    "from nltk import word_tokenize\n",
    "from nltk.corpus import stopwords\n",
    "from nltk.stem.snowball import SnowballStemmer\n",
    "import string\n",
    "import json\n",
    "import os\n",
    "import re"
   ]
  },
  {
   "cell_type": "code",
   "execution_count": 13,
   "metadata": {},
   "outputs": [],
   "source": [
    "stop_words = stopwords.words('english')\n",
    "stemmer = SnowballStemmer(\"english\")"
   ]
  },
  {
   "cell_type": "code",
   "execution_count": 14,
   "metadata": {},
   "outputs": [],
   "source": [
    "# load training data\n",
    "with open(\"data/training_set.json\", 'r') as f:\n",
    "    train_datas = json.load(f)"
   ]
  },
  {
   "cell_type": "code",
   "execution_count": 15,
   "metadata": {},
   "outputs": [],
   "source": [
    "# load testing data\n",
    "with open(\"data/test_set.json\", 'r') as f:\n",
    "    test_datas = json.load(f)"
   ]
  },
  {
   "cell_type": "code",
   "execution_count": 16,
   "metadata": {},
   "outputs": [],
   "source": [
    "\n",
    "def preprocess(datas, rm_stop_words=False):\n",
    "    idx = 0\n",
    "    neutral_idxs = []\n",
    "    texts = []\n",
    "    senti_class = []\n",
    "    for data in datas:\n",
    "        \n",
    "        snippet = data[\"snippet\"]\n",
    "        \n",
    "        if type(snippet) == list:\n",
    "            snippet = ' '.join(snippet)\n",
    "        \n",
    "        elif snippet == [] or snippet == \"\": # some data have empty snippet\n",
    "            snippet = data[\"tweet\"]\n",
    "            \n",
    "        raw_snippet = snippet\n",
    "\n",
    "        # remove strange token\n",
    "        snippet = re.sub('https?://[A-Za-z0-9./]+', ' ', snippet)\n",
    "        snippet = re.sub(u\"(?:[^a-zA-Z0-9\\+\\-\\$'#\\/])\", ' ', snippet)\n",
    "\n",
    "        snippet = snippet.lower().split(' ')\n",
    "    \n",
    "        # monitor if empty\n",
    "        if snippet == []:\n",
    "            print raw_snippet\n",
    " \n",
    "\n",
    "        # remove <num>, only leave +<num>, -<num>\n",
    "        snippet = [re.sub(\"\\d+.*\", \"<num>\", word) for word in snippet]         \n",
    "        snippet = [re.sub(r'\\+<num>.*', '_pos_num', word) for word in snippet]\n",
    "        snippet = [re.sub(r'\\-<num>.*', '_neg_num', word) for word in snippet]\n",
    "        snippet = [word for word in snippet if \"<num>\" not in word]\n",
    "        \n",
    "        # remove <company>  \n",
    "        snippet = [word for word in snippet if word.startswith('$') == False]\n",
    "                \n",
    "        if rm_stop_words:\n",
    "            snippet = [word for word in snippet if word not in stopwords.words('english')] # remove stopwords\n",
    "        \n",
    "        snippet = [stemmer.stem(word) for word in snippet] # stem words\n",
    "        snippet = [word for word in snippet if word != '' ]\n",
    "    \n",
    "#         print raw_snippet\n",
    "#         print snippet\n",
    "        \n",
    "#         print ' '.join(snippet)\n",
    "        \n",
    "#         print snippet\n",
    "#         print raw_snippet\n",
    "    \n",
    "          # check empty snippet after preprocessing\n",
    "        if snippet == []:\n",
    "            print \"->\" + raw_snippet\n",
    "  \n",
    "        # ignore empty training data\n",
    "        if snippet != []:\n",
    "            texts.append(snippet)\n",
    "            \n",
    "            if data[\"sentiment\"] < 0.0:\n",
    "                senti_class.append(0)\n",
    "            elif data[\"sentiment\"] == 0.0:\n",
    "                senti_class.append(1)\n",
    "            elif data[\"sentiment\"] > 0.0:\n",
    "                senti_class.append(2)\n",
    "            \n",
    "            if data[\"sentiment\"] == 0.0:\n",
    "                neutral_idxs.append(idx)\n",
    "                \n",
    "            idx += 1\n",
    "            \n",
    "#             senti_scores.append(data[\"sentiment\"])\n",
    "        \n",
    "    return texts, senti_class, neutral_idxs"
   ]
  },
  {
   "cell_type": "code",
   "execution_count": 17,
   "metadata": {},
   "outputs": [],
   "source": [
    "def preprocess_pipe(_rm_stop_words):\n",
    "    train_texts, y_train, train_neutral_idxs = preprocess(train_datas, rm_stop_words=_rm_stop_words)\n",
    "    test_texts, y_test, test_neutral_idxs = preprocess(test_datas, rm_stop_words=_rm_stop_words)\n",
    "\n",
    "    print \"before preprocesing, len(train_datas): %d\" % len(train_datas)\n",
    "    print \"after preprocesing, len(train_texts): %d\" % len(train_texts)\n",
    "    print \"before preprocesing, len(test_datas): %d\" % len(test_datas)\n",
    "    print \"after preprocesing, len(test_texts): %d\" % len(test_texts)\n",
    "\n",
    "    c = np.array(y_train)\n",
    "    y_test = np.array(y_test)\n",
    "\n",
    "    np.save(\"data/y_train\", y_train)\n",
    "    np.save(\"data/y_test\", y_test)\n",
    "    \n",
    "    return train_texts, test_texts, y_train, y_test, train_neutral_idxs, test_neutral_idxs"
   ]
  },
  {
   "cell_type": "code",
   "execution_count": 18,
   "metadata": {},
   "outputs": [
    {
     "name": "stdout",
     "output_type": "stream",
     "text": [
      "->$YOKU 0\n",
      "->15%\n",
      "before preprocesing, len(train_datas): 1396\n",
      "after preprocesing, len(train_texts): 1394\n",
      "before preprocesing, len(test_datas): 634\n",
      "after preprocesing, len(test_texts): 634\n"
     ]
    }
   ],
   "source": [
    "train_texts, test_texts, y_train, y_test, train_neutral_idxs, test_neutral_idxs = preprocess_pipe(_rm_stop_words=False)"
   ]
  },
  {
   "cell_type": "code",
   "execution_count": 19,
   "metadata": {},
   "outputs": [
    {
     "data": {
      "text/plain": [
       "[71, 126, 150, 227, 285, 311, 321, 396, 618, 619, 728, 734]"
      ]
     },
     "execution_count": 19,
     "metadata": {},
     "output_type": "execute_result"
    }
   ],
   "source": [
    "train_neutral_idxs"
   ]
  },
  {
   "cell_type": "code",
   "execution_count": 20,
   "metadata": {},
   "outputs": [
    {
     "name": "stdout",
     "output_type": "stream",
     "text": [
      "training -> bullish:265, neutral:12, bearish:1117\n",
      "testing -> bullish:221, neutral:12, bearish:401\n"
     ]
    }
   ],
   "source": [
    "distribution = [0,0,0]\n",
    "for s in y_train:\n",
    "    distribution[s] += 1\n",
    "print \"training -> bullish:%d, neutral:%d, bearish:%d\" % (distribution[0], distribution[1], distribution[2])\n",
    "\n",
    "distribution = [0,0,0]\n",
    "for s in y_test:\n",
    "    distribution[s] += 1\n",
    "print \"testing -> bullish:%d, neutral:%d, bearish:%d\" % (distribution[0], distribution[1], distribution[2])\n"
   ]
  },
  {
   "cell_type": "code",
   "execution_count": 21,
   "metadata": {},
   "outputs": [],
   "source": [
    "# predict\n",
    "from sklearn.feature_extraction.text import CountVectorizer\n",
    "from mlp import predict\n",
    "import tensorflow as tf\n",
    "\n",
    "f1_scores = []\n",
    "ngram_range = (1, 3)\n",
    "max_features = 3200\n",
    "\n",
    "vectorizer = CountVectorizer(max_features=max_features, ngram_range=ngram_range)\n",
    "\n",
    "corpus = [' '.join(text) for text in train_texts]\n",
    "x_train = vectorizer.fit_transform(corpus)\n",
    "x_train = x_train.toarray()\n",
    "\n",
    "corpus = [' '.join(text) for text in test_texts]\n",
    "x_test = vectorizer.transform(corpus)\n",
    "x_test = x_test.toarray()\n",
    "\n",
    "np.save(\"data/x_train\", x_train)\n",
    "np.save(\"data/x_test\", x_test)\n",
    "\n",
    "    "
   ]
  },
  {
   "cell_type": "code",
   "execution_count": null,
   "metadata": {},
   "outputs": [],
   "source": []
  }
 ],
 "metadata": {
  "kernelspec": {
   "display_name": "Python 2",
   "language": "python",
   "name": "python2"
  },
  "language_info": {
   "codemirror_mode": {
    "name": "ipython",
    "version": 2
   },
   "file_extension": ".py",
   "mimetype": "text/x-python",
   "name": "python",
   "nbconvert_exporter": "python",
   "pygments_lexer": "ipython2",
   "version": "2.7.12"
  }
 },
 "nbformat": 4,
 "nbformat_minor": 2
}
